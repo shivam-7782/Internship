{
 "cells": [
  {
   "cell_type": "code",
   "execution_count": 1,
   "id": "577927ef",
   "metadata": {},
   "outputs": [
    {
     "name": "stdout",
     "output_type": "stream",
     "text": [
      "Python:Exercises::PHP:exercises:\n"
     ]
    }
   ],
   "source": [
    "# QUESTION 1\n",
    "\n",
    "import regex as re\n",
    "\n",
    "string ='Python Exercises, PHP exercises.'\n",
    "\n",
    "result=re.sub(\"\\W\",\":\",string)\n",
    "\n",
    "print(result)"
   ]
  },
  {
   "cell_type": "code",
   "execution_count": 1,
   "id": "c86b50a8",
   "metadata": {},
   "outputs": [
    {
     "data": {
      "text/plain": [
       "0      hello world\n",
       "1             test\n",
       "2    four five six\n",
       "Name: SUMMARY, dtype: object"
      ]
     },
     "execution_count": 1,
     "metadata": {},
     "output_type": "execute_result"
    }
   ],
   "source": [
    "# QUESTION 2\n",
    "\n",
    "import pandas as pd\n",
    "import regex as re\n",
    "\n",
    "\n",
    "df=pd.DataFrame({'SUMMARY' : ['hello, world!', 'XXXXX test', '123four, five:; six...']})\n",
    "\n",
    "df['SUMMARY'].str.replace(r\"[^\\w+\\s]|X|\\d\",\"\",regex=True)\n"
   ]
  },
  {
   "cell_type": "code",
   "execution_count": 8,
   "id": "9a928375",
   "metadata": {},
   "outputs": [
    {
     "name": "stdout",
     "output_type": "stream",
     "text": [
      "['name', 'Shiv', 'Shah', 'uraj', 'Gaik']\n"
     ]
    }
   ],
   "source": [
    "# QUESTION 3\n",
    "\n",
    "import regex as re \n",
    "\n",
    "string =\"My name is Shivam Shahuraj Gaikwad\"\n",
    "\n",
    "prog=re.compile(\"\\w{4}\")\n",
    "\n",
    "result=prog.findall(string)\n",
    "\n",
    "print(result)"
   ]
  },
  {
   "cell_type": "code",
   "execution_count": 9,
   "id": "c900c4e7",
   "metadata": {},
   "outputs": [
    {
     "name": "stdout",
     "output_type": "stream",
     "text": [
      "['name', 'Shivam', 'Shahur', 'Gaikwa']\n"
     ]
    }
   ],
   "source": [
    "# QUESTION 4\n",
    "\n",
    "import regex as re \n",
    "\n",
    "string1 =\"My name is Shivam Shahuraj Gaikwad\"\n",
    "\n",
    "prog=re.compile(\"\\w{4,6}\")\n",
    "\n",
    "result1=prog.findall(string1)\n",
    "\n",
    "print(result1)"
   ]
  },
  {
   "cell_type": "code",
   "execution_count": 1,
   "id": "e4c08762",
   "metadata": {},
   "outputs": [
    {
     "name": "stdout",
     "output_type": "stream",
     "text": [
      "example.com\n",
      "w3resource\n",
      "github.com\n",
      "stackoverflow.com\n"
     ]
    }
   ],
   "source": [
    "# QUESTION 5\n",
    "\n",
    "import re\n",
    "items = [\"example (.com)\", \"w3resource\", \"github (.com)\", \"stackoverflow (.com)\"]\n",
    "for item in items:\n",
    "    pat=re.compile(r\"\\s[\\(]|[\\)]\")\n",
    "    print(pat.sub(\"\", item))\n"
   ]
  },
  {
   "cell_type": "code",
   "execution_count": 2,
   "id": "2da3fde2",
   "metadata": {},
   "outputs": [
    {
     "name": "stdout",
     "output_type": "stream",
     "text": [
      "example\n",
      "hr@fliprobo\n",
      "github\n",
      "Hello\n",
      "Data\n"
     ]
    }
   ],
   "source": [
    "# QUESTION 6\n",
    "\n",
    "import re\n",
    "items = [\"example (.com)\", \"hr@fliprobo (.com)\", \"github (.com)\", \"Hello (Data Science World)\", \"Data (Scientist)\"]\n",
    "for item in items:\n",
    "    print(re.sub(r\" ?\\([^)]+\\)\",\"\", item))"
   ]
  },
  {
   "cell_type": "code",
   "execution_count": 14,
   "id": "8d220466",
   "metadata": {},
   "outputs": [
    {
     "name": "stdout",
     "output_type": "stream",
     "text": [
      "['', 'Importance', 'Of', 'Regular', 'Expressions', 'In', 'Python']\n"
     ]
    }
   ],
   "source": [
    "# QUESTION 7\n",
    "\n",
    "import re\n",
    "\n",
    "string=(\"ImportanceOfRegularExpressionsInPython\")\n",
    "\n",
    "pattern=(r\"(?=[A-Z])\")\n",
    "result=re.split(pattern,string)\n",
    "\n",
    "print(result)\n",
    "    \n",
    "    "
   ]
  },
  {
   "cell_type": "code",
   "execution_count": 13,
   "id": "4b9fdb19",
   "metadata": {},
   "outputs": [
    {
     "name": "stdout",
     "output_type": "stream",
     "text": [
      "['RegularExpression', '1IsAn', '2ImportantTopic', '3InPython']\n"
     ]
    }
   ],
   "source": [
    "# QUESTION 8\n",
    "\n",
    "import re\n",
    "\n",
    "\n",
    "text =\"RegularExpression1IsAn2ImportantTopic3InPython\"\n",
    "\n",
    "\n",
    "result = re.split(r'(?=\\d)', text)\n",
    "\n",
    "print(result)"
   ]
  },
  {
   "cell_type": "code",
   "execution_count": 3,
   "id": "a4e5ab0a",
   "metadata": {},
   "outputs": [
    {
     "name": "stdout",
     "output_type": "stream",
     "text": [
      "['', 'Regular', 'Expression', '1', 'Is', 'An', '2', 'Important', 'Topic', '3', 'In', 'Python']\n"
     ]
    }
   ],
   "source": [
    "# QUESTION 9\n",
    "\n",
    "import re\n",
    "\n",
    "text=\"RegularExpression1IsAn2ImportantTopic3InPython\"\n",
    "\n",
    "pattern=r\"(?=\\d)|(?=[A-Z])\"\n",
    "\n",
    "result=re.split(pattern,text)\n",
    "\n",
    "print(result)\n"
   ]
  },
  {
   "cell_type": "code",
   "execution_count": 4,
   "id": "fcacde38",
   "metadata": {},
   "outputs": [
    {
     "name": "stdout",
     "output_type": "stream",
     "text": [
      "          0\n",
      "0    Switze\n",
      "1    Icelan\n",
      "2    Denmar\n",
      "3    Norway\n",
      "4    Canada\n",
      "..      ...\n",
      "153  Rwanda\n",
      "154     NaN\n",
      "155     NaN\n",
      "156  Burund\n",
      "157     NaN\n",
      "\n",
      "[158 rows x 1 columns]\n"
     ]
    }
   ],
   "source": [
    "# QUESTION 10\n",
    "\n",
    "import pandas as pd \n",
    "import regex as re\n",
    "\n",
    "df=pd.read_csv(\"https://raw.githubusercontent.com/dsrscientist/DSData/master/happiness_score_dataset.csv\")\n",
    "df.head(10)\n",
    "\n",
    "\n",
    "first_five_letters=df['Country'].str.extract(\"(\\w{6})\",expand=True)\n",
    "\n",
    "print(first_five_letters)"
   ]
  },
  {
   "cell_type": "code",
   "execution_count": 21,
   "id": "b9abf14a",
   "metadata": {},
   "outputs": [
    {
     "name": "stdout",
     "output_type": "stream",
     "text": [
      "<re.Match object; span=(0, 38), match='ImportanceOfRegularExpressionsInPython'>\n"
     ]
    }
   ],
   "source": [
    "# QUESTION 11\n",
    "\n",
    "string=(\"ImportanceOfRegularExpressionsInPython\")\n",
    "\n",
    "pattern=(r\"\\w+\")\n",
    "result=re.match(pattern,string)\n",
    "\n",
    "print(result)"
   ]
  },
  {
   "cell_type": "code",
   "execution_count": null,
   "id": "951b39c0",
   "metadata": {},
   "outputs": [],
   "source": [
    "# QUESTION 12\n",
    "\n",
    "pattern=r\"^\\d+\" \n",
    "\n",
    "result=re.match(pattern,string)"
   ]
  },
  {
   "cell_type": "code",
   "execution_count": 7,
   "id": "7537c2d5",
   "metadata": {},
   "outputs": [
    {
     "name": "stdout",
     "output_type": "stream",
     "text": [
      "206.8.10.96\n"
     ]
    }
   ],
   "source": [
    "# QUESTION 13\n",
    "\n",
    "import re\n",
    "ip = \"206.08.010.096\"\n",
    "string = re.sub('\\.[0]*', '.', ip)\n",
    "print(string)\n"
   ]
  },
  {
   "cell_type": "code",
   "execution_count": 6,
   "id": "1967ce60",
   "metadata": {},
   "outputs": [
    {
     "name": "stdout",
     "output_type": "stream",
     "text": [
      "['August 15th 1947']\n"
     ]
    }
   ],
   "source": [
    "# QUESTION 14\n",
    "import re\n",
    "\n",
    "text= \"On August 15th 1947 that India was declared independent from British colonialism, and the reins of control were handed over to the leaders of the Country’\" \n",
    "pattern=r\"\\b\\w+.\\d+.+\\d\\b\"\n",
    "\n",
    "result=re.findall(pattern,text)\n",
    "\n",
    "print(result)\n"
   ]
  },
  {
   "cell_type": "code",
   "execution_count": 3,
   "id": "33641209",
   "metadata": {},
   "outputs": [
    {
     "name": "stdout",
     "output_type": "stream",
     "text": [
      "<re.Match object; span=(16, 19), match='fox'>\n",
      "<re.Match object; span=(40, 43), match='dog'>\n",
      "None\n"
     ]
    }
   ],
   "source": [
    "# QUESTION 15\n",
    "\n",
    "import re\n",
    "patterns = [ 'fox', 'dog', 'horse' ]\n",
    "text = 'The quick brown fox jumps over the lazy dog.'\n",
    "for pattern in patterns:\n",
    "    print(re.search(pattern,  text))\n",
    "\n",
    "\n",
    "\n",
    "\n"
   ]
  },
  {
   "cell_type": "code",
   "execution_count": 17,
   "id": "baabea25",
   "metadata": {},
   "outputs": [
    {
     "name": "stdout",
     "output_type": "stream",
     "text": [
      "<re.Match object; span=(16, 19), match='fox'>\n"
     ]
    }
   ],
   "source": [
    "# QUESTION 16\n",
    "import re\n",
    "\n",
    "pattern=r\"f\\w+\"\n",
    "\n",
    "sample='The quick brown fox jumps over the lazy dog.'\n",
    "\n",
    "\n",
    "result=re.search(pattern,sample)\n",
    "\n",
    "print(result)"
   ]
  },
  {
   "cell_type": "code",
   "execution_count": 13,
   "id": "0a319217",
   "metadata": {},
   "outputs": [
    {
     "name": "stdout",
     "output_type": "stream",
     "text": [
      "<re.Match object; span=(7, 16), match='exercises'>\n",
      "<re.Match object; span=(22, 31), match='exercises'>\n",
      "<re.Match object; span=(36, 45), match='exercises'>\n"
     ]
    }
   ],
   "source": [
    "# QUESTION 17\n",
    "\n",
    "import re\n",
    "text = 'Python exercises, PHP exercises, C# exercises'\n",
    "pattern = 'exercises'\n",
    "for match in re.finditer(pattern, text):\n",
    "    print(match)"
   ]
  },
  {
   "cell_type": "code",
   "execution_count": 11,
   "id": "6282c9a7",
   "metadata": {},
   "outputs": [
    {
     "name": "stdout",
     "output_type": "stream",
     "text": [
      "<re.Match object; span=(7, 16), match='exercises'>\n",
      "<re.Match object; span=(22, 31), match='exercises'>\n",
      "<re.Match object; span=(36, 45), match='exercises'>\n"
     ]
    }
   ],
   "source": [
    "# QUESTION 18\n",
    "import re\n",
    "text = 'Python exercises, PHP exercises, C# exercises'\n",
    "pattern = 'exercises'\n",
    "for match in re.finditer(pattern, text):\n",
    "    print(match)"
   ]
  },
  {
   "cell_type": "code",
   "execution_count": 3,
   "id": "d92eed37",
   "metadata": {},
   "outputs": [
    {
     "name": "stdout",
     "output_type": "stream",
     "text": [
      "25-12-2000\n"
     ]
    }
   ],
   "source": [
    "# QUESTION 19\n",
    "\n",
    "import re\n",
    "\n",
    "pat='(\\d{4})-(\\d{1,2})-(\\d{1,2})'\n",
    "\n",
    "string=\"2000-12-25\"\n",
    "\n",
    "result=re.sub(pat,'\\\\3-\\\\2-\\\\1',string)\n",
    "\n",
    "print(result)"
   ]
  },
  {
   "cell_type": "code",
   "execution_count": 6,
   "id": "c80f7143",
   "metadata": {},
   "outputs": [
    {
     "name": "stdout",
     "output_type": "stream",
     "text": [
      "[('01', '.12'), ('32', '.12'), ('31', ''), ('01', '')]\n"
     ]
    }
   ],
   "source": [
    "# QUESTION 20\n",
    "\n",
    "import re\n",
    "\n",
    "pattern=re.compile(r\"([0-9][1,2])+(\\.\\w+[1,2])?\")\n",
    "str=\"01.12 0132.123 2.31875 145.8 3.01 27.25 0.25\"\n",
    "\n",
    "result=pattern.findall(str)\n",
    "\n",
    "print(result)"
   ]
  },
  {
   "cell_type": "code",
   "execution_count": 6,
   "id": "fabc6afe",
   "metadata": {},
   "outputs": [
    {
     "name": "stdout",
     "output_type": "stream",
     "text": [
      "<re.Match object; span=(28, 30), match='25'>\n",
      "<re.Match object; span=(45, 49), match='1999'>\n"
     ]
    }
   ],
   "source": [
    "# QUESTION 21.\n",
    "\n",
    "import re\n",
    "\n",
    "text=\"my name is shivam my age is 25,i was born on 1999 \"\n",
    "\n",
    "for m in re.finditer(\"\\d+\", text):\n",
    "    print(m)"
   ]
  },
  {
   "cell_type": "code",
   "execution_count": 5,
   "id": "537756bb",
   "metadata": {},
   "outputs": [
    {
     "name": "stdout",
     "output_type": "stream",
     "text": [
      "950\n"
     ]
    }
   ],
   "source": [
    "# QUESTION 22\n",
    "\n",
    "text='My marks in each semester are: 947, 896, 926, 524, 734, 950, 642'\n",
    "\n",
    "\n",
    "pattern = re.findall(r'\\d+', text)\n",
    "\n",
    "number = map(int, numbers)\n",
    "   \n",
    "print(max(numbers))"
   ]
  },
  {
   "cell_type": "code",
   "execution_count": 12,
   "id": "7ff3b8d3",
   "metadata": {},
   "outputs": [
    {
     "name": "stdout",
     "output_type": "stream",
     "text": [
      " Regular Expression Is An Important Topic In Python\n"
     ]
    }
   ],
   "source": [
    "# QUESTION 23\n",
    "\n",
    "pattern=r\"(?=[A-Z])\"\n",
    "\n",
    "sample=\"RegularExpressionIsAnImportantTopicInPython\"\n",
    "\n",
    "result=re.sub(pattern,\" \",sample)\n",
    " \n",
    "print(result)"
   ]
  },
  {
   "cell_type": "code",
   "execution_count": 2,
   "id": "f634b5ef",
   "metadata": {},
   "outputs": [
    {
     "name": "stdout",
     "output_type": "stream",
     "text": [
      "['My', 'Name', 'Shivam', 'Gaikwad', 'Jully']\n"
     ]
    }
   ],
   "source": [
    "# QUESTION 24\n",
    "\n",
    "import re\n",
    "\n",
    "pattern=r\"\\b[A-Z]\\w+\"\n",
    "\n",
    "sample=\"My Name is Shivam Gaikwad, my age is 25 born on Jully 25 1999.\"\n",
    "\n",
    "result=re.findall(pattern,sample)\n",
    "\n",
    "print(result)"
   ]
  },
  {
   "cell_type": "code",
   "execution_count": 5,
   "id": "25a15b67",
   "metadata": {},
   "outputs": [
    {
     "name": "stdout",
     "output_type": "stream",
     "text": [
      "Hello hello world\n"
     ]
    }
   ],
   "source": [
    "# QUESTION 25\n",
    "\n",
    "import re\n",
    "\n",
    "string=\"Hello hello world world\"\n",
    "pattern=r\"\\b(\\w+)(?:\\W+\\1\\b)+\"\n",
    "\n",
    "result=re.sub(pattern,r\"\\1\",string)\n",
    "\n",
    "print(result)"
   ]
  },
  {
   "cell_type": "code",
   "execution_count": null,
   "id": "24788ff7",
   "metadata": {},
   "outputs": [],
   "source": [
    "# QUESTION 26.\n",
    "\n",
    "pattern=r\"\\w+$\""
   ]
  },
  {
   "cell_type": "code",
   "execution_count": 22,
   "id": "a9a079fc",
   "metadata": {},
   "outputs": [
    {
     "name": "stdout",
     "output_type": "stream",
     "text": [
      "['#Doltiwal', '#xyzabc', '#Demonetization']\n"
     ]
    }
   ],
   "source": [
    "# QUESTION 27\n",
    "\n",
    "import re\n",
    "\n",
    "sample=\"\"\"RT @kapil_kausik: #Doltiwal I mean #xyzabc is \"hurt\" by #Demonetization as the same has rendered USELESS <ed><U+00A0><U+00BD><ed><U+00B1><U+0089> \"acquired funds\" No wo\"\"\"\n",
    "    \n",
    "pattern=(r\"#\\w+\") \n",
    "\n",
    "result=re.findall(pattern,sample)\n",
    "print(result)"
   ]
  },
  {
   "cell_type": "code",
   "execution_count": 5,
   "id": "0017e125",
   "metadata": {},
   "outputs": [
    {
     "name": "stdout",
     "output_type": "stream",
     "text": [
      "@Jags123456 Bharat band on 28??<ed><ed>Those who  are protesting #demonetization  are all different party leaders\n"
     ]
    }
   ],
   "source": [
    "# QUESTION 28\n",
    "import re\n",
    "\n",
    "pattern=r\"\\B<U\\+\\w+>\"\n",
    "\n",
    "sample=\"@Jags123456 Bharat band on 28??<ed><U+00A0><U+00BD><ed><U+00B8><U+0082>Those who  are protesting #demonetization  are all different party leaders\"\n",
    "\n",
    "result=re.sub(pattern,\"\",sample)\n",
    "\n",
    "print(result)"
   ]
  },
  {
   "cell_type": "code",
   "execution_count": 3,
   "id": "c2e9a8ee",
   "metadata": {},
   "outputs": [
    {
     "name": "stdout",
     "output_type": "stream",
     "text": [
      "['12-09-1992', '15-12-1999']\n"
     ]
    }
   ],
   "source": [
    "# QUESTION 29\n",
    "\n",
    "import re\n",
    "\n",
    "pattern=r\"\\b\\d+-\\d+-\\d+\\b\"\n",
    "string=\"Ron was born on 12-09-1992 and he was admitted to school 15-12-1999.\"\n",
    "\n",
    "result=re.findall(pattern,string)\n",
    "print(result)"
   ]
  },
  {
   "cell_type": "code",
   "execution_count": 6,
   "id": "3f31c174",
   "metadata": {},
   "outputs": [
    {
     "name": "stdout",
     "output_type": "stream",
     "text": [
      " following example creates  ArrayList  a capacity   elements. 4 elements   added   ArrayList   ArrayList  trimmed accordingly.\n"
     ]
    }
   ],
   "source": [
    "# QUESTION 30\n",
    "\n",
    "sample=\"The following example creates an ArrayList with a capacity of 50 elements. 4 elements are then added to the ArrayList and the ArrayList is trimmed accordingly.\"\n",
    "\n",
    "pattern=r\"\\b\\w{2,4}\\b\"\n",
    "\n",
    "result=re.sub(pattern,\"\",sample)\n",
    "\n",
    "print(result)"
   ]
  }
 ],
 "metadata": {
  "kernelspec": {
   "display_name": "Python 3 (ipykernel)",
   "language": "python",
   "name": "python3"
  },
  "language_info": {
   "codemirror_mode": {
    "name": "ipython",
    "version": 3
   },
   "file_extension": ".py",
   "mimetype": "text/x-python",
   "name": "python",
   "nbconvert_exporter": "python",
   "pygments_lexer": "ipython3",
   "version": "3.11.5"
  }
 },
 "nbformat": 4,
 "nbformat_minor": 5
}
